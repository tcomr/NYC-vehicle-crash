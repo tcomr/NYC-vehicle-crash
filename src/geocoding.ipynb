{
 "cells": [
  {
   "cell_type": "code",
   "execution_count": null,
   "metadata": {},
   "outputs": [],
   "source": []
  },
  {
   "cell_type": "markdown",
   "metadata": {},
   "source": [
    "# Reverse geocoding function: <br>\n",
    "Write a function to find zipcode from given latitude/longitude"
   ]
  },
  {
   "cell_type": "code",
   "execution_count": 12,
   "metadata": {},
   "outputs": [],
   "source": [
    "# Find  borough/zip-code from  lattitude/longtide\n",
    "\n",
    "import geopandas as gpd\n",
    "import geopy\n",
    "from geopy.geocoders import Nominatim\n",
    "from geopy.extra.rate_limiter import RateLimiter\n",
    "import plotly_express as px\n",
    "import tqdm\n",
    "from tqdm._tqdm_notebook import tqdm_notebook\n",
    "geopy.geocoders.options.default_timeout = 7\n",
    "\n",
    "\n",
    "def find_zipcode_from_lati_longitude(coordinates):\n",
    "    \n",
    "    '''\n",
    "    Given a lattitude and longtitude coordinates (from Pandas Dataframe, df,)\n",
    "    return zipcode of that coordinates\n",
    "    \n",
    "    Parameter\n",
    "    ----------\n",
    "    coordinates: point with x,y in the form: lattitude, longitude \n",
    "    \n",
    "    Returns:\n",
    "    --------\n",
    "    zipcode: (int) zipcode of coordinates \n",
    "    '''\n",
    "    if coordinates == 'nan,nan':\n",
    "        zipcode = '00000'\n",
    "    else: \n",
    "        locator = Nominatim(user_agent=\"myGeocoder\")\n",
    "        location = locator.reverse(coordinates)\n",
    "        location.raw\n",
    "        full_address = str(location.address)\n",
    "        lst_of_address = full_address.split(',')\n",
    "        zipcode = lst_of_address[-2]\n",
    "\n",
    "    return zipcode \n",
    "\n",
    "\n",
    "\n",
    "\n",
    "def find_borough_from_lati_longitude(coordinates):\n",
    "\n",
    "    '''\n",
    "    Given a lattitude and longtitude coordinates (from Pandas Dataframe, df,)\n",
    "    return city-borough of that coordinates\n",
    "    \n",
    "    Parameter\n",
    "    ----------\n",
    "    coordinates: point with x,y in the form: lattitude, longitude \n",
    "    \n",
    "    Returns:\n",
    "    --------\n",
    "    borough: (str) borough(eg. Queens, Brooklyn, etc.) of coordinates \n",
    "    '''\n",
    "    if coordinates == 'nan,nan':\n",
    "        borough = 'Not availbe'\n",
    "    else: \n",
    "        locator = Nominatim(user_agent=\"myGeocoder\")\n",
    "        location = locator.reverse(coordinates)\n",
    "        location.raw\n",
    "        full_address = str(location.address)\n",
    "        lst_of_address = full_address.split(',')\n",
    "        borough = lst_of_address[-5]\n",
    "\n",
    "    return borough \n",
    "c\n",
    "# df1['zip_code'] = df1['coord_point'].apply(lambda x:find_zipcode_from_lati_longitude(x))\n",
    "# df1['NYC_borough'] = df1['coord_point'].apply(lambda x:find_borough_from_lati_longitude(x))\n"
   ]
  }
 ],
 "metadata": {
  "kernelspec": {
   "display_name": "Python 3.7.4 64-bit ('anaconda3': virtualenv)",
   "language": "python",
   "name": "python37464bitanaconda3virtualenvf939463149494a51a1a46a65879359a2"
  },
  "language_info": {
   "codemirror_mode": {
    "name": "ipython",
    "version": 3
   },
   "file_extension": ".py",
   "mimetype": "text/x-python",
   "name": "python",
   "nbconvert_exporter": "python",
   "pygments_lexer": "ipython3",
   "version": "3.7.4"
  }
 },
 "nbformat": 4,
 "nbformat_minor": 4
}
